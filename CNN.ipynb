{
  "nbformat": 4,
  "nbformat_minor": 0,
  "metadata": {
    "colab": {
      "provenance": [],
      "authorship_tag": "ABX9TyM+iOGHZ2phlUuOtV5RHEok",
      "include_colab_link": true
    },
    "kernelspec": {
      "name": "python3",
      "display_name": "Python 3"
    },
    "language_info": {
      "name": "python"
    }
  },
  "cells": [
    {
      "cell_type": "markdown",
      "metadata": {
        "id": "view-in-github",
        "colab_type": "text"
      },
      "source": [
        "<a href=\"https://colab.research.google.com/github/LucaR45/Cnn-Rock-Paper-Scissors/blob/main/CNN.ipynb\" target=\"_parent\"><img src=\"https://colab.research.google.com/assets/colab-badge.svg\" alt=\"Open In Colab\"/></a>"
      ]
    },
    {
      "cell_type": "markdown",
      "source": [
        "Data Exploration and Preprocessing"
      ],
      "metadata": {
        "id": "kjxzuHoA5UPV"
      }
    },
    {
      "cell_type": "code",
      "source": [
        "import os\n",
        "# Insert your kaggle data\n",
        "os.environ['KAGGLE_USERNAME'] = \"xxxxxxxxx\"\n",
        "os.environ['KAGGLE_KEY'] = \"xxxxxxxxx\""
      ],
      "metadata": {
        "id": "AKi4BN04JQk4"
      },
      "execution_count": 2,
      "outputs": []
    },
    {
      "cell_type": "code",
      "source": [
        "# Download a dataset from Kaggle\n",
        "!kaggle datasets download -d drgfreeman/rockpaperscissors --unzip"
      ],
      "metadata": {
        "colab": {
          "base_uri": "https://localhost:8080/"
        },
        "id": "6iiknqlTJiG2",
        "outputId": "bd38580d-2272-4b9a-98c1-baa65870c2ec"
      },
      "execution_count": 3,
      "outputs": [
        {
          "output_type": "stream",
          "name": "stdout",
          "text": [
            "Dataset URL: https://www.kaggle.com/datasets/drgfreeman/rockpaperscissors\n",
            "License(s): CC-BY-SA-4.0\n",
            "Downloading rockpaperscissors.zip to /content\n",
            " 84% 257M/306M [00:00<00:00, 268MB/s] \n",
            "100% 306M/306M [00:03<00:00, 97.8MB/s]\n"
          ]
        }
      ]
    },
    {
      "cell_type": "code",
      "source": [
        "print(\"Rock images :\" +str(len(os.listdir('/content/rock'))))\n",
        "print(\"Paper images :\" +str(len(os.listdir('/content/paper'))))\n",
        "print(\"Scissors images :\" +str(len(os.listdir('/content/scissors'))))"
      ],
      "metadata": {
        "colab": {
          "base_uri": "https://localhost:8080/"
        },
        "id": "SgNCj-uELqPB",
        "outputId": "85c7087e-f82c-4fff-af60-250fb62c4e3b"
      },
      "execution_count": 4,
      "outputs": [
        {
          "output_type": "stream",
          "name": "stdout",
          "text": [
            "Rock images :726\n",
            "Paper images :712\n",
            "Scissors images :750\n"
          ]
        }
      ]
    },
    {
      "cell_type": "code",
      "source": [
        "rock_path = '/content/rock'\n",
        "paper_path = '/content/paper'\n",
        "scissors_path = '/content/scissors'\n",
        "\n",
        "rock_images = os.listdir(rock_path)\n",
        "paper_images = os.listdir(paper_path)\n",
        "scissors_images = os.listdir(scissors_path)\n",
        "\n",
        "print(len(rock_images))\n",
        "print(len(paper_images))\n",
        "print(len(scissors_images))"
      ],
      "metadata": {
        "colab": {
          "base_uri": "https://localhost:8080/"
        },
        "id": "fpgO8FXpJ4QY",
        "outputId": "5d528f0f-440a-46c9-c196-0eceb281a71a"
      },
      "execution_count": 5,
      "outputs": [
        {
          "output_type": "stream",
          "name": "stdout",
          "text": [
            "726\n",
            "712\n",
            "750\n"
          ]
        }
      ]
    },
    {
      "cell_type": "markdown",
      "source": [
        "Dataframe\n"
      ],
      "metadata": {
        "id": "s54F1CfF5oJV"
      }
    },
    {
      "cell_type": "code",
      "source": [
        "path = '/content/rps-cv-images'"
      ],
      "metadata": {
        "id": "TMOcyonCeGZX"
      },
      "execution_count": 6,
      "outputs": []
    },
    {
      "cell_type": "code",
      "source": [
        "paths = []\n",
        "labels = []\n",
        "base_dir = \"/content/rps-cv-images\"\n",
        "for item_name in os.listdir(base_dir):\n",
        "  item_path = os.path.join(base_dir, item_name)\n",
        "  if os.path.isdir(item_path): # Check if the item is a directory\n",
        "    for path in os.listdir(item_path):\n",
        "      if item_name == 'paper':\n",
        "        labels.append(\"paper\")\n",
        "      elif item_name == 'scissors':\n",
        "        labels.append(\"scissors\")\n",
        "      else:\n",
        "        labels.append(\"rock\")\n",
        "      paths.append(os.path.join(item_path, path))"
      ],
      "metadata": {
        "id": "K3FDYJ6q2LbN"
      },
      "execution_count": 7,
      "outputs": []
    },
    {
      "cell_type": "code",
      "source": [
        "import pandas as pd\n",
        "\n",
        "df = pd.DataFrame()\n",
        "df['paths'] = paths\n",
        "df['label'] = labels\n",
        "\n",
        "df.iloc[720:730]"
      ],
      "metadata": {
        "colab": {
          "base_uri": "https://localhost:8080/",
          "height": 363
        },
        "id": "5RbTZApz3za2",
        "outputId": "61f86265-7d47-46af-dd5f-51d8d5b8063c"
      },
      "execution_count": 8,
      "outputs": [
        {
          "output_type": "execute_result",
          "data": {
            "text/plain": [
              "                                                 paths     label\n",
              "720  /content/rps-cv-images/scissors/CTbANISUvZMD2T...  scissors\n",
              "721  /content/rps-cv-images/scissors/XPvABb1iOSQx69...  scissors\n",
              "722  /content/rps-cv-images/scissors/LFzPbXpksRrG9j...  scissors\n",
              "723  /content/rps-cv-images/scissors/sYwtAuLI5zLIEf...  scissors\n",
              "724  /content/rps-cv-images/scissors/xKyBoUZHpqSVqT...  scissors\n",
              "725  /content/rps-cv-images/scissors/SJCguzLeVcfuZ2...  scissors\n",
              "726  /content/rps-cv-images/scissors/otBEUIQNFGMk80...  scissors\n",
              "727  /content/rps-cv-images/scissors/zdo3LHesq3aHmu...  scissors\n",
              "728  /content/rps-cv-images/scissors/3UH9T0W1eZQW36...  scissors\n",
              "729  /content/rps-cv-images/scissors/xOdLJOH2sxWkgR...  scissors"
            ],
            "text/html": [
              "\n",
              "  <div id=\"df-9fe397b8-4c36-4b95-a8d5-994d489f245a\" class=\"colab-df-container\">\n",
              "    <div>\n",
              "<style scoped>\n",
              "    .dataframe tbody tr th:only-of-type {\n",
              "        vertical-align: middle;\n",
              "    }\n",
              "\n",
              "    .dataframe tbody tr th {\n",
              "        vertical-align: top;\n",
              "    }\n",
              "\n",
              "    .dataframe thead th {\n",
              "        text-align: right;\n",
              "    }\n",
              "</style>\n",
              "<table border=\"1\" class=\"dataframe\">\n",
              "  <thead>\n",
              "    <tr style=\"text-align: right;\">\n",
              "      <th></th>\n",
              "      <th>paths</th>\n",
              "      <th>label</th>\n",
              "    </tr>\n",
              "  </thead>\n",
              "  <tbody>\n",
              "    <tr>\n",
              "      <th>720</th>\n",
              "      <td>/content/rps-cv-images/scissors/CTbANISUvZMD2T...</td>\n",
              "      <td>scissors</td>\n",
              "    </tr>\n",
              "    <tr>\n",
              "      <th>721</th>\n",
              "      <td>/content/rps-cv-images/scissors/XPvABb1iOSQx69...</td>\n",
              "      <td>scissors</td>\n",
              "    </tr>\n",
              "    <tr>\n",
              "      <th>722</th>\n",
              "      <td>/content/rps-cv-images/scissors/LFzPbXpksRrG9j...</td>\n",
              "      <td>scissors</td>\n",
              "    </tr>\n",
              "    <tr>\n",
              "      <th>723</th>\n",
              "      <td>/content/rps-cv-images/scissors/sYwtAuLI5zLIEf...</td>\n",
              "      <td>scissors</td>\n",
              "    </tr>\n",
              "    <tr>\n",
              "      <th>724</th>\n",
              "      <td>/content/rps-cv-images/scissors/xKyBoUZHpqSVqT...</td>\n",
              "      <td>scissors</td>\n",
              "    </tr>\n",
              "    <tr>\n",
              "      <th>725</th>\n",
              "      <td>/content/rps-cv-images/scissors/SJCguzLeVcfuZ2...</td>\n",
              "      <td>scissors</td>\n",
              "    </tr>\n",
              "    <tr>\n",
              "      <th>726</th>\n",
              "      <td>/content/rps-cv-images/scissors/otBEUIQNFGMk80...</td>\n",
              "      <td>scissors</td>\n",
              "    </tr>\n",
              "    <tr>\n",
              "      <th>727</th>\n",
              "      <td>/content/rps-cv-images/scissors/zdo3LHesq3aHmu...</td>\n",
              "      <td>scissors</td>\n",
              "    </tr>\n",
              "    <tr>\n",
              "      <th>728</th>\n",
              "      <td>/content/rps-cv-images/scissors/3UH9T0W1eZQW36...</td>\n",
              "      <td>scissors</td>\n",
              "    </tr>\n",
              "    <tr>\n",
              "      <th>729</th>\n",
              "      <td>/content/rps-cv-images/scissors/xOdLJOH2sxWkgR...</td>\n",
              "      <td>scissors</td>\n",
              "    </tr>\n",
              "  </tbody>\n",
              "</table>\n",
              "</div>\n",
              "    <div class=\"colab-df-buttons\">\n",
              "\n",
              "  <div class=\"colab-df-container\">\n",
              "    <button class=\"colab-df-convert\" onclick=\"convertToInteractive('df-9fe397b8-4c36-4b95-a8d5-994d489f245a')\"\n",
              "            title=\"Convert this dataframe to an interactive table.\"\n",
              "            style=\"display:none;\">\n",
              "\n",
              "  <svg xmlns=\"http://www.w3.org/2000/svg\" height=\"24px\" viewBox=\"0 -960 960 960\">\n",
              "    <path d=\"M120-120v-720h720v720H120Zm60-500h600v-160H180v160Zm220 220h160v-160H400v160Zm0 220h160v-160H400v160ZM180-400h160v-160H180v160Zm440 0h160v-160H620v160ZM180-180h160v-160H180v160Zm440 0h160v-160H620v160Z\"/>\n",
              "  </svg>\n",
              "    </button>\n",
              "\n",
              "  <style>\n",
              "    .colab-df-container {\n",
              "      display:flex;\n",
              "      gap: 12px;\n",
              "    }\n",
              "\n",
              "    .colab-df-convert {\n",
              "      background-color: #E8F0FE;\n",
              "      border: none;\n",
              "      border-radius: 50%;\n",
              "      cursor: pointer;\n",
              "      display: none;\n",
              "      fill: #1967D2;\n",
              "      height: 32px;\n",
              "      padding: 0 0 0 0;\n",
              "      width: 32px;\n",
              "    }\n",
              "\n",
              "    .colab-df-convert:hover {\n",
              "      background-color: #E2EBFA;\n",
              "      box-shadow: 0px 1px 2px rgba(60, 64, 67, 0.3), 0px 1px 3px 1px rgba(60, 64, 67, 0.15);\n",
              "      fill: #174EA6;\n",
              "    }\n",
              "\n",
              "    .colab-df-buttons div {\n",
              "      margin-bottom: 4px;\n",
              "    }\n",
              "\n",
              "    [theme=dark] .colab-df-convert {\n",
              "      background-color: #3B4455;\n",
              "      fill: #D2E3FC;\n",
              "    }\n",
              "\n",
              "    [theme=dark] .colab-df-convert:hover {\n",
              "      background-color: #434B5C;\n",
              "      box-shadow: 0px 1px 3px 1px rgba(0, 0, 0, 0.15);\n",
              "      filter: drop-shadow(0px 1px 2px rgba(0, 0, 0, 0.3));\n",
              "      fill: #FFFFFF;\n",
              "    }\n",
              "  </style>\n",
              "\n",
              "    <script>\n",
              "      const buttonEl =\n",
              "        document.querySelector('#df-9fe397b8-4c36-4b95-a8d5-994d489f245a button.colab-df-convert');\n",
              "      buttonEl.style.display =\n",
              "        google.colab.kernel.accessAllowed ? 'block' : 'none';\n",
              "\n",
              "      async function convertToInteractive(key) {\n",
              "        const element = document.querySelector('#df-9fe397b8-4c36-4b95-a8d5-994d489f245a');\n",
              "        const dataTable =\n",
              "          await google.colab.kernel.invokeFunction('convertToInteractive',\n",
              "                                                    [key], {});\n",
              "        if (!dataTable) return;\n",
              "\n",
              "        const docLinkHtml = 'Like what you see? Visit the ' +\n",
              "          '<a target=\"_blank\" href=https://colab.research.google.com/notebooks/data_table.ipynb>data table notebook</a>'\n",
              "          + ' to learn more about interactive tables.';\n",
              "        element.innerHTML = '';\n",
              "        dataTable['output_type'] = 'display_data';\n",
              "        await google.colab.output.renderOutput(dataTable, element);\n",
              "        const docLink = document.createElement('div');\n",
              "        docLink.innerHTML = docLinkHtml;\n",
              "        element.appendChild(docLink);\n",
              "      }\n",
              "    </script>\n",
              "  </div>\n",
              "\n",
              "\n",
              "    <div id=\"df-9d1b0f18-8cb2-4f77-8fd4-08439c29352c\">\n",
              "      <button class=\"colab-df-quickchart\" onclick=\"quickchart('df-9d1b0f18-8cb2-4f77-8fd4-08439c29352c')\"\n",
              "                title=\"Suggest charts\"\n",
              "                style=\"display:none;\">\n",
              "\n",
              "<svg xmlns=\"http://www.w3.org/2000/svg\" height=\"24px\"viewBox=\"0 0 24 24\"\n",
              "     width=\"24px\">\n",
              "    <g>\n",
              "        <path d=\"M19 3H5c-1.1 0-2 .9-2 2v14c0 1.1.9 2 2 2h14c1.1 0 2-.9 2-2V5c0-1.1-.9-2-2-2zM9 17H7v-7h2v7zm4 0h-2V7h2v10zm4 0h-2v-4h2v4z\"/>\n",
              "    </g>\n",
              "</svg>\n",
              "      </button>\n",
              "\n",
              "<style>\n",
              "  .colab-df-quickchart {\n",
              "      --bg-color: #E8F0FE;\n",
              "      --fill-color: #1967D2;\n",
              "      --hover-bg-color: #E2EBFA;\n",
              "      --hover-fill-color: #174EA6;\n",
              "      --disabled-fill-color: #AAA;\n",
              "      --disabled-bg-color: #DDD;\n",
              "  }\n",
              "\n",
              "  [theme=dark] .colab-df-quickchart {\n",
              "      --bg-color: #3B4455;\n",
              "      --fill-color: #D2E3FC;\n",
              "      --hover-bg-color: #434B5C;\n",
              "      --hover-fill-color: #FFFFFF;\n",
              "      --disabled-bg-color: #3B4455;\n",
              "      --disabled-fill-color: #666;\n",
              "  }\n",
              "\n",
              "  .colab-df-quickchart {\n",
              "    background-color: var(--bg-color);\n",
              "    border: none;\n",
              "    border-radius: 50%;\n",
              "    cursor: pointer;\n",
              "    display: none;\n",
              "    fill: var(--fill-color);\n",
              "    height: 32px;\n",
              "    padding: 0;\n",
              "    width: 32px;\n",
              "  }\n",
              "\n",
              "  .colab-df-quickchart:hover {\n",
              "    background-color: var(--hover-bg-color);\n",
              "    box-shadow: 0 1px 2px rgba(60, 64, 67, 0.3), 0 1px 3px 1px rgba(60, 64, 67, 0.15);\n",
              "    fill: var(--button-hover-fill-color);\n",
              "  }\n",
              "\n",
              "  .colab-df-quickchart-complete:disabled,\n",
              "  .colab-df-quickchart-complete:disabled:hover {\n",
              "    background-color: var(--disabled-bg-color);\n",
              "    fill: var(--disabled-fill-color);\n",
              "    box-shadow: none;\n",
              "  }\n",
              "\n",
              "  .colab-df-spinner {\n",
              "    border: 2px solid var(--fill-color);\n",
              "    border-color: transparent;\n",
              "    border-bottom-color: var(--fill-color);\n",
              "    animation:\n",
              "      spin 1s steps(1) infinite;\n",
              "  }\n",
              "\n",
              "  @keyframes spin {\n",
              "    0% {\n",
              "      border-color: transparent;\n",
              "      border-bottom-color: var(--fill-color);\n",
              "      border-left-color: var(--fill-color);\n",
              "    }\n",
              "    20% {\n",
              "      border-color: transparent;\n",
              "      border-left-color: var(--fill-color);\n",
              "      border-top-color: var(--fill-color);\n",
              "    }\n",
              "    30% {\n",
              "      border-color: transparent;\n",
              "      border-left-color: var(--fill-color);\n",
              "      border-top-color: var(--fill-color);\n",
              "      border-right-color: var(--fill-color);\n",
              "    }\n",
              "    40% {\n",
              "      border-color: transparent;\n",
              "      border-right-color: var(--fill-color);\n",
              "      border-top-color: var(--fill-color);\n",
              "    }\n",
              "    60% {\n",
              "      border-color: transparent;\n",
              "      border-right-color: var(--fill-color);\n",
              "    }\n",
              "    80% {\n",
              "      border-color: transparent;\n",
              "      border-right-color: var(--fill-color);\n",
              "      border-bottom-color: var(--fill-color);\n",
              "    }\n",
              "    90% {\n",
              "      border-color: transparent;\n",
              "      border-bottom-color: var(--fill-color);\n",
              "    }\n",
              "  }\n",
              "</style>\n",
              "\n",
              "      <script>\n",
              "        async function quickchart(key) {\n",
              "          const quickchartButtonEl =\n",
              "            document.querySelector('#' + key + ' button');\n",
              "          quickchartButtonEl.disabled = true;  // To prevent multiple clicks.\n",
              "          quickchartButtonEl.classList.add('colab-df-spinner');\n",
              "          try {\n",
              "            const charts = await google.colab.kernel.invokeFunction(\n",
              "                'suggestCharts', [key], {});\n",
              "          } catch (error) {\n",
              "            console.error('Error during call to suggestCharts:', error);\n",
              "          }\n",
              "          quickchartButtonEl.classList.remove('colab-df-spinner');\n",
              "          quickchartButtonEl.classList.add('colab-df-quickchart-complete');\n",
              "        }\n",
              "        (() => {\n",
              "          let quickchartButtonEl =\n",
              "            document.querySelector('#df-9d1b0f18-8cb2-4f77-8fd4-08439c29352c button');\n",
              "          quickchartButtonEl.style.display =\n",
              "            google.colab.kernel.accessAllowed ? 'block' : 'none';\n",
              "        })();\n",
              "      </script>\n",
              "    </div>\n",
              "\n",
              "    </div>\n",
              "  </div>\n"
            ],
            "application/vnd.google.colaboratory.intrinsic+json": {
              "type": "dataframe",
              "summary": "{\n  \"name\": \"df\",\n  \"rows\": 10,\n  \"fields\": [\n    {\n      \"column\": \"paths\",\n      \"properties\": {\n        \"dtype\": \"string\",\n        \"num_unique_values\": 10,\n        \"samples\": [\n          \"/content/rps-cv-images/scissors/3UH9T0W1eZQW36xF.png\",\n          \"/content/rps-cv-images/scissors/XPvABb1iOSQx69Dq.png\",\n          \"/content/rps-cv-images/scissors/SJCguzLeVcfuZ2OA.png\"\n        ],\n        \"semantic_type\": \"\",\n        \"description\": \"\"\n      }\n    },\n    {\n      \"column\": \"label\",\n      \"properties\": {\n        \"dtype\": \"category\",\n        \"num_unique_values\": 1,\n        \"samples\": [\n          \"scissors\"\n        ],\n        \"semantic_type\": \"\",\n        \"description\": \"\"\n      }\n    }\n  ]\n}"
            }
          },
          "metadata": {},
          "execution_count": 8
        }
      ]
    },
    {
      "cell_type": "markdown",
      "source": [
        "Image Properties\n"
      ],
      "metadata": {
        "id": "LpYGyVW16Kn3"
      }
    },
    {
      "cell_type": "code",
      "source": [
        "Height = 96\n",
        "Width = 96\n",
        "Size = (Width, Height)\n",
        "Channels = 3"
      ],
      "metadata": {
        "id": "hJTXzJHP_WDI"
      },
      "execution_count": 9,
      "outputs": []
    },
    {
      "cell_type": "markdown",
      "source": [
        "Generator\n",
        "Splitting data and generator"
      ],
      "metadata": {
        "id": "qb9S1-UL6niW"
      }
    },
    {
      "cell_type": "code",
      "source": [
        "from sklearn.model_selection import train_test_split"
      ],
      "metadata": {
        "id": "MR9xSmSzHSvw"
      },
      "execution_count": 10,
      "outputs": []
    },
    {
      "cell_type": "code",
      "source": [
        "df_train, df_test = train_test_split(df, test_size=0.2, random_state = 90)\n",
        "df_train, df_validation = train_test_split(df_train, test_size=0.2/0.9, random_state = 90 )"
      ],
      "metadata": {
        "id": "16doPuthIo5o"
      },
      "execution_count": 11,
      "outputs": []
    },
    {
      "cell_type": "code",
      "source": [
        "df_test"
      ],
      "metadata": {
        "colab": {
          "base_uri": "https://localhost:8080/",
          "height": 424
        },
        "id": "1Exe0qsXq9Nd",
        "outputId": "55756b46-0c49-4013-bb2b-f2799a23e8f0"
      },
      "execution_count": 12,
      "outputs": [
        {
          "output_type": "execute_result",
          "data": {
            "text/plain": [
              "                                                  paths     label\n",
              "430   /content/rps-cv-images/scissors/pLBH6c1NAfL1xV...  scissors\n",
              "1938  /content/rps-cv-images/paper/KAyKztBfGIWm4qN7.png     paper\n",
              "631   /content/rps-cv-images/scissors/TxkHaqZ5Mg3Jfs...  scissors\n",
              "1973  /content/rps-cv-images/paper/E10FR2TKbBsv9Hgm.png     paper\n",
              "2156  /content/rps-cv-images/paper/p2Y8kJZKuaHvM4dk.png     paper\n",
              "...                                                 ...       ...\n",
              "14    /content/rps-cv-images/scissors/NCHfmPjxa7aay5...  scissors\n",
              "1915  /content/rps-cv-images/paper/ocaU2HmemX7rmjm0.png     paper\n",
              "1184   /content/rps-cv-images/rock/9STiLxSOXvh5kjda.png      rock\n",
              "728   /content/rps-cv-images/scissors/3UH9T0W1eZQW36...  scissors\n",
              "1809  /content/rps-cv-images/paper/OEFttKrmyc4bGb54.png     paper\n",
              "\n",
              "[438 rows x 2 columns]"
            ],
            "text/html": [
              "\n",
              "  <div id=\"df-22f16631-87c3-4de9-a80e-aee0d6d1ec3a\" class=\"colab-df-container\">\n",
              "    <div>\n",
              "<style scoped>\n",
              "    .dataframe tbody tr th:only-of-type {\n",
              "        vertical-align: middle;\n",
              "    }\n",
              "\n",
              "    .dataframe tbody tr th {\n",
              "        vertical-align: top;\n",
              "    }\n",
              "\n",
              "    .dataframe thead th {\n",
              "        text-align: right;\n",
              "    }\n",
              "</style>\n",
              "<table border=\"1\" class=\"dataframe\">\n",
              "  <thead>\n",
              "    <tr style=\"text-align: right;\">\n",
              "      <th></th>\n",
              "      <th>paths</th>\n",
              "      <th>label</th>\n",
              "    </tr>\n",
              "  </thead>\n",
              "  <tbody>\n",
              "    <tr>\n",
              "      <th>430</th>\n",
              "      <td>/content/rps-cv-images/scissors/pLBH6c1NAfL1xV...</td>\n",
              "      <td>scissors</td>\n",
              "    </tr>\n",
              "    <tr>\n",
              "      <th>1938</th>\n",
              "      <td>/content/rps-cv-images/paper/KAyKztBfGIWm4qN7.png</td>\n",
              "      <td>paper</td>\n",
              "    </tr>\n",
              "    <tr>\n",
              "      <th>631</th>\n",
              "      <td>/content/rps-cv-images/scissors/TxkHaqZ5Mg3Jfs...</td>\n",
              "      <td>scissors</td>\n",
              "    </tr>\n",
              "    <tr>\n",
              "      <th>1973</th>\n",
              "      <td>/content/rps-cv-images/paper/E10FR2TKbBsv9Hgm.png</td>\n",
              "      <td>paper</td>\n",
              "    </tr>\n",
              "    <tr>\n",
              "      <th>2156</th>\n",
              "      <td>/content/rps-cv-images/paper/p2Y8kJZKuaHvM4dk.png</td>\n",
              "      <td>paper</td>\n",
              "    </tr>\n",
              "    <tr>\n",
              "      <th>...</th>\n",
              "      <td>...</td>\n",
              "      <td>...</td>\n",
              "    </tr>\n",
              "    <tr>\n",
              "      <th>14</th>\n",
              "      <td>/content/rps-cv-images/scissors/NCHfmPjxa7aay5...</td>\n",
              "      <td>scissors</td>\n",
              "    </tr>\n",
              "    <tr>\n",
              "      <th>1915</th>\n",
              "      <td>/content/rps-cv-images/paper/ocaU2HmemX7rmjm0.png</td>\n",
              "      <td>paper</td>\n",
              "    </tr>\n",
              "    <tr>\n",
              "      <th>1184</th>\n",
              "      <td>/content/rps-cv-images/rock/9STiLxSOXvh5kjda.png</td>\n",
              "      <td>rock</td>\n",
              "    </tr>\n",
              "    <tr>\n",
              "      <th>728</th>\n",
              "      <td>/content/rps-cv-images/scissors/3UH9T0W1eZQW36...</td>\n",
              "      <td>scissors</td>\n",
              "    </tr>\n",
              "    <tr>\n",
              "      <th>1809</th>\n",
              "      <td>/content/rps-cv-images/paper/OEFttKrmyc4bGb54.png</td>\n",
              "      <td>paper</td>\n",
              "    </tr>\n",
              "  </tbody>\n",
              "</table>\n",
              "<p>438 rows × 2 columns</p>\n",
              "</div>\n",
              "    <div class=\"colab-df-buttons\">\n",
              "\n",
              "  <div class=\"colab-df-container\">\n",
              "    <button class=\"colab-df-convert\" onclick=\"convertToInteractive('df-22f16631-87c3-4de9-a80e-aee0d6d1ec3a')\"\n",
              "            title=\"Convert this dataframe to an interactive table.\"\n",
              "            style=\"display:none;\">\n",
              "\n",
              "  <svg xmlns=\"http://www.w3.org/2000/svg\" height=\"24px\" viewBox=\"0 -960 960 960\">\n",
              "    <path d=\"M120-120v-720h720v720H120Zm60-500h600v-160H180v160Zm220 220h160v-160H400v160Zm0 220h160v-160H400v160ZM180-400h160v-160H180v160Zm440 0h160v-160H620v160ZM180-180h160v-160H180v160Zm440 0h160v-160H620v160Z\"/>\n",
              "  </svg>\n",
              "    </button>\n",
              "\n",
              "  <style>\n",
              "    .colab-df-container {\n",
              "      display:flex;\n",
              "      gap: 12px;\n",
              "    }\n",
              "\n",
              "    .colab-df-convert {\n",
              "      background-color: #E8F0FE;\n",
              "      border: none;\n",
              "      border-radius: 50%;\n",
              "      cursor: pointer;\n",
              "      display: none;\n",
              "      fill: #1967D2;\n",
              "      height: 32px;\n",
              "      padding: 0 0 0 0;\n",
              "      width: 32px;\n",
              "    }\n",
              "\n",
              "    .colab-df-convert:hover {\n",
              "      background-color: #E2EBFA;\n",
              "      box-shadow: 0px 1px 2px rgba(60, 64, 67, 0.3), 0px 1px 3px 1px rgba(60, 64, 67, 0.15);\n",
              "      fill: #174EA6;\n",
              "    }\n",
              "\n",
              "    .colab-df-buttons div {\n",
              "      margin-bottom: 4px;\n",
              "    }\n",
              "\n",
              "    [theme=dark] .colab-df-convert {\n",
              "      background-color: #3B4455;\n",
              "      fill: #D2E3FC;\n",
              "    }\n",
              "\n",
              "    [theme=dark] .colab-df-convert:hover {\n",
              "      background-color: #434B5C;\n",
              "      box-shadow: 0px 1px 3px 1px rgba(0, 0, 0, 0.15);\n",
              "      filter: drop-shadow(0px 1px 2px rgba(0, 0, 0, 0.3));\n",
              "      fill: #FFFFFF;\n",
              "    }\n",
              "  </style>\n",
              "\n",
              "    <script>\n",
              "      const buttonEl =\n",
              "        document.querySelector('#df-22f16631-87c3-4de9-a80e-aee0d6d1ec3a button.colab-df-convert');\n",
              "      buttonEl.style.display =\n",
              "        google.colab.kernel.accessAllowed ? 'block' : 'none';\n",
              "\n",
              "      async function convertToInteractive(key) {\n",
              "        const element = document.querySelector('#df-22f16631-87c3-4de9-a80e-aee0d6d1ec3a');\n",
              "        const dataTable =\n",
              "          await google.colab.kernel.invokeFunction('convertToInteractive',\n",
              "                                                    [key], {});\n",
              "        if (!dataTable) return;\n",
              "\n",
              "        const docLinkHtml = 'Like what you see? Visit the ' +\n",
              "          '<a target=\"_blank\" href=https://colab.research.google.com/notebooks/data_table.ipynb>data table notebook</a>'\n",
              "          + ' to learn more about interactive tables.';\n",
              "        element.innerHTML = '';\n",
              "        dataTable['output_type'] = 'display_data';\n",
              "        await google.colab.output.renderOutput(dataTable, element);\n",
              "        const docLink = document.createElement('div');\n",
              "        docLink.innerHTML = docLinkHtml;\n",
              "        element.appendChild(docLink);\n",
              "      }\n",
              "    </script>\n",
              "  </div>\n",
              "\n",
              "\n",
              "    <div id=\"df-c188ee45-8d29-4b05-be15-454c877ac16f\">\n",
              "      <button class=\"colab-df-quickchart\" onclick=\"quickchart('df-c188ee45-8d29-4b05-be15-454c877ac16f')\"\n",
              "                title=\"Suggest charts\"\n",
              "                style=\"display:none;\">\n",
              "\n",
              "<svg xmlns=\"http://www.w3.org/2000/svg\" height=\"24px\"viewBox=\"0 0 24 24\"\n",
              "     width=\"24px\">\n",
              "    <g>\n",
              "        <path d=\"M19 3H5c-1.1 0-2 .9-2 2v14c0 1.1.9 2 2 2h14c1.1 0 2-.9 2-2V5c0-1.1-.9-2-2-2zM9 17H7v-7h2v7zm4 0h-2V7h2v10zm4 0h-2v-4h2v4z\"/>\n",
              "    </g>\n",
              "</svg>\n",
              "      </button>\n",
              "\n",
              "<style>\n",
              "  .colab-df-quickchart {\n",
              "      --bg-color: #E8F0FE;\n",
              "      --fill-color: #1967D2;\n",
              "      --hover-bg-color: #E2EBFA;\n",
              "      --hover-fill-color: #174EA6;\n",
              "      --disabled-fill-color: #AAA;\n",
              "      --disabled-bg-color: #DDD;\n",
              "  }\n",
              "\n",
              "  [theme=dark] .colab-df-quickchart {\n",
              "      --bg-color: #3B4455;\n",
              "      --fill-color: #D2E3FC;\n",
              "      --hover-bg-color: #434B5C;\n",
              "      --hover-fill-color: #FFFFFF;\n",
              "      --disabled-bg-color: #3B4455;\n",
              "      --disabled-fill-color: #666;\n",
              "  }\n",
              "\n",
              "  .colab-df-quickchart {\n",
              "    background-color: var(--bg-color);\n",
              "    border: none;\n",
              "    border-radius: 50%;\n",
              "    cursor: pointer;\n",
              "    display: none;\n",
              "    fill: var(--fill-color);\n",
              "    height: 32px;\n",
              "    padding: 0;\n",
              "    width: 32px;\n",
              "  }\n",
              "\n",
              "  .colab-df-quickchart:hover {\n",
              "    background-color: var(--hover-bg-color);\n",
              "    box-shadow: 0 1px 2px rgba(60, 64, 67, 0.3), 0 1px 3px 1px rgba(60, 64, 67, 0.15);\n",
              "    fill: var(--button-hover-fill-color);\n",
              "  }\n",
              "\n",
              "  .colab-df-quickchart-complete:disabled,\n",
              "  .colab-df-quickchart-complete:disabled:hover {\n",
              "    background-color: var(--disabled-bg-color);\n",
              "    fill: var(--disabled-fill-color);\n",
              "    box-shadow: none;\n",
              "  }\n",
              "\n",
              "  .colab-df-spinner {\n",
              "    border: 2px solid var(--fill-color);\n",
              "    border-color: transparent;\n",
              "    border-bottom-color: var(--fill-color);\n",
              "    animation:\n",
              "      spin 1s steps(1) infinite;\n",
              "  }\n",
              "\n",
              "  @keyframes spin {\n",
              "    0% {\n",
              "      border-color: transparent;\n",
              "      border-bottom-color: var(--fill-color);\n",
              "      border-left-color: var(--fill-color);\n",
              "    }\n",
              "    20% {\n",
              "      border-color: transparent;\n",
              "      border-left-color: var(--fill-color);\n",
              "      border-top-color: var(--fill-color);\n",
              "    }\n",
              "    30% {\n",
              "      border-color: transparent;\n",
              "      border-left-color: var(--fill-color);\n",
              "      border-top-color: var(--fill-color);\n",
              "      border-right-color: var(--fill-color);\n",
              "    }\n",
              "    40% {\n",
              "      border-color: transparent;\n",
              "      border-right-color: var(--fill-color);\n",
              "      border-top-color: var(--fill-color);\n",
              "    }\n",
              "    60% {\n",
              "      border-color: transparent;\n",
              "      border-right-color: var(--fill-color);\n",
              "    }\n",
              "    80% {\n",
              "      border-color: transparent;\n",
              "      border-right-color: var(--fill-color);\n",
              "      border-bottom-color: var(--fill-color);\n",
              "    }\n",
              "    90% {\n",
              "      border-color: transparent;\n",
              "      border-bottom-color: var(--fill-color);\n",
              "    }\n",
              "  }\n",
              "</style>\n",
              "\n",
              "      <script>\n",
              "        async function quickchart(key) {\n",
              "          const quickchartButtonEl =\n",
              "            document.querySelector('#' + key + ' button');\n",
              "          quickchartButtonEl.disabled = true;  // To prevent multiple clicks.\n",
              "          quickchartButtonEl.classList.add('colab-df-spinner');\n",
              "          try {\n",
              "            const charts = await google.colab.kernel.invokeFunction(\n",
              "                'suggestCharts', [key], {});\n",
              "          } catch (error) {\n",
              "            console.error('Error during call to suggestCharts:', error);\n",
              "          }\n",
              "          quickchartButtonEl.classList.remove('colab-df-spinner');\n",
              "          quickchartButtonEl.classList.add('colab-df-quickchart-complete');\n",
              "        }\n",
              "        (() => {\n",
              "          let quickchartButtonEl =\n",
              "            document.querySelector('#df-c188ee45-8d29-4b05-be15-454c877ac16f button');\n",
              "          quickchartButtonEl.style.display =\n",
              "            google.colab.kernel.accessAllowed ? 'block' : 'none';\n",
              "        })();\n",
              "      </script>\n",
              "    </div>\n",
              "\n",
              "  <div id=\"id_f0f0670a-4dd6-47a0-8e58-7c112259cdc6\">\n",
              "    <style>\n",
              "      .colab-df-generate {\n",
              "        background-color: #E8F0FE;\n",
              "        border: none;\n",
              "        border-radius: 50%;\n",
              "        cursor: pointer;\n",
              "        display: none;\n",
              "        fill: #1967D2;\n",
              "        height: 32px;\n",
              "        padding: 0 0 0 0;\n",
              "        width: 32px;\n",
              "      }\n",
              "\n",
              "      .colab-df-generate:hover {\n",
              "        background-color: #E2EBFA;\n",
              "        box-shadow: 0px 1px 2px rgba(60, 64, 67, 0.3), 0px 1px 3px 1px rgba(60, 64, 67, 0.15);\n",
              "        fill: #174EA6;\n",
              "      }\n",
              "\n",
              "      [theme=dark] .colab-df-generate {\n",
              "        background-color: #3B4455;\n",
              "        fill: #D2E3FC;\n",
              "      }\n",
              "\n",
              "      [theme=dark] .colab-df-generate:hover {\n",
              "        background-color: #434B5C;\n",
              "        box-shadow: 0px 1px 3px 1px rgba(0, 0, 0, 0.15);\n",
              "        filter: drop-shadow(0px 1px 2px rgba(0, 0, 0, 0.3));\n",
              "        fill: #FFFFFF;\n",
              "      }\n",
              "    </style>\n",
              "    <button class=\"colab-df-generate\" onclick=\"generateWithVariable('df_test')\"\n",
              "            title=\"Generate code using this dataframe.\"\n",
              "            style=\"display:none;\">\n",
              "\n",
              "  <svg xmlns=\"http://www.w3.org/2000/svg\" height=\"24px\"viewBox=\"0 0 24 24\"\n",
              "       width=\"24px\">\n",
              "    <path d=\"M7,19H8.4L18.45,9,17,7.55,7,17.6ZM5,21V16.75L18.45,3.32a2,2,0,0,1,2.83,0l1.4,1.43a1.91,1.91,0,0,1,.58,1.4,1.91,1.91,0,0,1-.58,1.4L9.25,21ZM18.45,9,17,7.55Zm-12,3A5.31,5.31,0,0,0,4.9,8.1,5.31,5.31,0,0,0,1,6.5,5.31,5.31,0,0,0,4.9,4.9,5.31,5.31,0,0,0,6.5,1,5.31,5.31,0,0,0,8.1,4.9,5.31,5.31,0,0,0,12,6.5,5.46,5.46,0,0,0,6.5,12Z\"/>\n",
              "  </svg>\n",
              "    </button>\n",
              "    <script>\n",
              "      (() => {\n",
              "      const buttonEl =\n",
              "        document.querySelector('#id_f0f0670a-4dd6-47a0-8e58-7c112259cdc6 button.colab-df-generate');\n",
              "      buttonEl.style.display =\n",
              "        google.colab.kernel.accessAllowed ? 'block' : 'none';\n",
              "\n",
              "      buttonEl.onclick = () => {\n",
              "        google.colab.notebook.generateWithVariable('df_test');\n",
              "      }\n",
              "      })();\n",
              "    </script>\n",
              "  </div>\n",
              "\n",
              "    </div>\n",
              "  </div>\n"
            ],
            "application/vnd.google.colaboratory.intrinsic+json": {
              "type": "dataframe",
              "variable_name": "df_test",
              "summary": "{\n  \"name\": \"df_test\",\n  \"rows\": 438,\n  \"fields\": [\n    {\n      \"column\": \"paths\",\n      \"properties\": {\n        \"dtype\": \"string\",\n        \"num_unique_values\": 438,\n        \"samples\": [\n          \"/content/rps-cv-images/paper/cOHWfHkyo8sqWnpW.png\",\n          \"/content/rps-cv-images/rock/fMQzh7RRM5fbtBiC.png\",\n          \"/content/rps-cv-images/paper/KOlOsNsrUdQonYpp.png\"\n        ],\n        \"semantic_type\": \"\",\n        \"description\": \"\"\n      }\n    },\n    {\n      \"column\": \"label\",\n      \"properties\": {\n        \"dtype\": \"category\",\n        \"num_unique_values\": 3,\n        \"samples\": [\n          \"scissors\",\n          \"paper\",\n          \"rock\"\n        ],\n        \"semantic_type\": \"\",\n        \"description\": \"\"\n      }\n    }\n  ]\n}"
            }
          },
          "metadata": {},
          "execution_count": 12
        }
      ]
    },
    {
      "cell_type": "code",
      "source": [
        "from tensorflow.keras.preprocessing.image import ImageDataGenerator\n",
        "data_generator = ImageDataGenerator(rescale=1./255)"
      ],
      "metadata": {
        "id": "SErbUiD1OErj"
      },
      "execution_count": 13,
      "outputs": []
    },
    {
      "cell_type": "code",
      "source": [
        "from tensorflow.keras.preprocessing.image import ImageDataGenerator\n",
        "data_generator = ImageDataGenerator(rescale=1./255)\n",
        "\n",
        "test_gen = data_generator.flow_from_dataframe(dataframe = df_test,\n",
        "                                                        directory=None,\n",
        "                                                        x_col=\"paths\", y_col=\"label\",\n",
        "                                                        batch_size=64, seed = 55,\n",
        "                                                        shuffle=True, class_mode=\"categorical\",\n",
        "                                                        target_size=Size)\n",
        "train_gen = data_generator.flow_from_dataframe(dataframe = df_train,\n",
        "                                                        directory=None,\n",
        "                                                        x_col=\"paths\", y_col=\"label\",\n",
        "                                                        batch_size=64, seed = 55,\n",
        "                                                        shuffle=True, class_mode=\"categorical\",\n",
        "                                                        target_size=Size)\n",
        "valid_gen = data_generator.flow_from_dataframe(dataframe = df_validation,\n",
        "                                                        directory=None,\n",
        "                                                        x_col=\"paths\", y_col=\"label\",\n",
        "                                                        batch_size=64, seed = 55,\n",
        "                                                        shuffle=True, class_mode=\"categorical\",\n",
        "                                                        target_size=Size)"
      ],
      "metadata": {
        "colab": {
          "base_uri": "https://localhost:8080/"
        },
        "id": "oBzWGYjs8gZ2",
        "outputId": "53361ea9-f2cf-4037-cff5-c9a431c0234e"
      },
      "execution_count": 14,
      "outputs": [
        {
          "output_type": "stream",
          "name": "stdout",
          "text": [
            "Found 438 validated image filenames belonging to 3 classes.\n",
            "Found 1361 validated image filenames belonging to 3 classes.\n",
            "Found 389 validated image filenames belonging to 3 classes.\n"
          ]
        }
      ]
    },
    {
      "cell_type": "markdown",
      "source": [
        "CNN Architecture and Training"
      ],
      "metadata": {
        "id": "XBZoBsUE-Ohl"
      }
    },
    {
      "cell_type": "markdown",
      "source": [
        "Model 1\n"
      ],
      "metadata": {
        "id": "LSLJTG_A-Uq2"
      }
    },
    {
      "cell_type": "code",
      "source": [
        "from tensorflow.keras.models import Sequential\n",
        "from tensorflow.keras.layers import Conv2D, BatchNormalization, MaxPooling2D, Dropout, Flatten, Dense\n",
        "from tensorflow.keras import regularizers\n",
        "from tensorflow.keras.optimizers import Adam"
      ],
      "metadata": {
        "id": "wL0ep1WUR33E"
      },
      "execution_count": null,
      "outputs": []
    },
    {
      "cell_type": "code",
      "source": [
        "def cnn1():\n",
        "  cnn1 = Sequential()\n",
        "  cnn1.add(Conv2D(64, (3, 3), activation='relu', input_shape=(Width, Height, Channels)))\n",
        "  cnn1.add(BatchNormalization())\n",
        "  cnn1.add(MaxPooling2D((2, 2)))\n",
        "  cnn1.add(Dropout(0.3,seed=44))\n",
        "\n",
        "  cnn1.add(Conv2D(64, (3, 3), activation='relu'))\n",
        "  cnn1.add(MaxPooling2D((2, 2)))\n",
        "  cnn1.add(Dropout(0.4,seed=44))\n",
        "\n",
        "  cnn1.add(Flatten())\n",
        "  cnn1.add(Dense(64,activation='relu',kernel_regularizer=regularizers.l2(0.005)))\n",
        "  cnn1.add(Dropout(0.4,seed=44))\n",
        "\n",
        "  cnn1.add(Dense(3, activation='softmax'))\n",
        "  custom_adam = Adam(learning_rate=0.0003)\n",
        "\n",
        "  cnn1.compile(\n",
        "        loss='categorical_crossentropy',\n",
        "        optimizer=custom_adam,\n",
        "        metrics=['accuracy']\n",
        "    )\n",
        "\n",
        "  return cnn1"
      ],
      "metadata": {
        "id": "hYivgm7g-W6y"
      },
      "execution_count": null,
      "outputs": []
    },
    {
      "cell_type": "code",
      "source": [
        "model_to_train = cnn1()\n",
        "history1 = model_to_train.fit(\n",
        "    train_gen,\n",
        "    epochs= 20,\n",
        "    validation_data=valid_gen\n",
        ")"
      ],
      "metadata": {
        "colab": {
          "base_uri": "https://localhost:8080/"
        },
        "id": "QvXhjb28ZWGr",
        "outputId": "6f7d39d6-5910-4239-e3f6-f47becb0e67e"
      },
      "execution_count": null,
      "outputs": [
        {
          "output_type": "stream",
          "name": "stderr",
          "text": [
            "/usr/local/lib/python3.12/dist-packages/keras/src/layers/convolutional/base_conv.py:113: UserWarning: Do not pass an `input_shape`/`input_dim` argument to a layer. When using Sequential models, prefer using an `Input(shape)` object as the first layer in the model instead.\n",
            "  super().__init__(activity_regularizer=activity_regularizer, **kwargs)\n",
            "/usr/local/lib/python3.12/dist-packages/keras/src/trainers/data_adapters/py_dataset_adapter.py:121: UserWarning: Your `PyDataset` class should call `super().__init__(**kwargs)` in its constructor. `**kwargs` can include `workers`, `use_multiprocessing`, `max_queue_size`. Do not pass these arguments to `fit()`, as they will be ignored.\n",
            "  self._warn_if_super_not_called()\n"
          ]
        },
        {
          "output_type": "stream",
          "name": "stdout",
          "text": [
            "Epoch 1/20\n",
            "\u001b[1m22/22\u001b[0m \u001b[32m━━━━━━━━━━━━━━━━━━━━\u001b[0m\u001b[37m\u001b[0m \u001b[1m54s\u001b[0m 2s/step - accuracy: 0.4525 - loss: 2.3106 - val_accuracy: 0.4242 - val_loss: 1.6696\n",
            "Epoch 2/20\n",
            "\u001b[1m22/22\u001b[0m \u001b[32m━━━━━━━━━━━━━━━━━━━━\u001b[0m\u001b[37m\u001b[0m \u001b[1m51s\u001b[0m 2s/step - accuracy: 0.6205 - loss: 1.3756 - val_accuracy: 0.6838 - val_loss: 1.6087\n",
            "Epoch 3/20\n",
            "\u001b[1m22/22\u001b[0m \u001b[32m━━━━━━━━━━━━━━━━━━━━\u001b[0m\u001b[37m\u001b[0m \u001b[1m50s\u001b[0m 2s/step - accuracy: 0.7638 - loss: 1.0867 - val_accuracy: 0.8432 - val_loss: 1.5471\n",
            "Epoch 4/20\n",
            "\u001b[1m22/22\u001b[0m \u001b[32m━━━━━━━━━━━━━━━━━━━━\u001b[0m\u001b[37m\u001b[0m \u001b[1m50s\u001b[0m 2s/step - accuracy: 0.8283 - loss: 0.9658 - val_accuracy: 0.8432 - val_loss: 1.4831\n",
            "Epoch 5/20\n",
            "\u001b[1m22/22\u001b[0m \u001b[32m━━━━━━━━━━━━━━━━━━━━\u001b[0m\u001b[37m\u001b[0m \u001b[1m50s\u001b[0m 2s/step - accuracy: 0.8042 - loss: 0.8925 - val_accuracy: 0.8843 - val_loss: 1.4218\n",
            "Epoch 6/20\n",
            "\u001b[1m22/22\u001b[0m \u001b[32m━━━━━━━━━━━━━━━━━━━━\u001b[0m\u001b[37m\u001b[0m \u001b[1m60s\u001b[0m 3s/step - accuracy: 0.8550 - loss: 0.7870 - val_accuracy: 0.8380 - val_loss: 1.3596\n",
            "Epoch 7/20\n",
            "\u001b[1m22/22\u001b[0m \u001b[32m━━━━━━━━━━━━━━━━━━━━\u001b[0m\u001b[37m\u001b[0m \u001b[1m51s\u001b[0m 2s/step - accuracy: 0.8781 - loss: 0.7367 - val_accuracy: 0.8792 - val_loss: 1.2638\n",
            "Epoch 8/20\n",
            "\u001b[1m22/22\u001b[0m \u001b[32m━━━━━━━━━━━━━━━━━━━━\u001b[0m\u001b[37m\u001b[0m \u001b[1m51s\u001b[0m 2s/step - accuracy: 0.8958 - loss: 0.6786 - val_accuracy: 0.8458 - val_loss: 1.2365\n",
            "Epoch 9/20\n",
            "\u001b[1m22/22\u001b[0m \u001b[32m━━━━━━━━━━━━━━━━━━━━\u001b[0m\u001b[37m\u001b[0m \u001b[1m51s\u001b[0m 2s/step - accuracy: 0.8755 - loss: 0.6603 - val_accuracy: 0.9075 - val_loss: 1.1021\n",
            "Epoch 10/20\n",
            "\u001b[1m22/22\u001b[0m \u001b[32m━━━━━━━━━━━━━━━━━━━━\u001b[0m\u001b[37m\u001b[0m \u001b[1m83s\u001b[0m 2s/step - accuracy: 0.8722 - loss: 0.6312 - val_accuracy: 0.8972 - val_loss: 1.1004\n",
            "Epoch 11/20\n",
            "\u001b[1m22/22\u001b[0m \u001b[32m━━━━━━━━━━━━━━━━━━━━\u001b[0m\u001b[37m\u001b[0m \u001b[1m51s\u001b[0m 2s/step - accuracy: 0.8967 - loss: 0.5619 - val_accuracy: 0.9100 - val_loss: 1.0081\n",
            "Epoch 12/20\n",
            "\u001b[1m22/22\u001b[0m \u001b[32m━━━━━━━━━━━━━━━━━━━━\u001b[0m\u001b[37m\u001b[0m \u001b[1m51s\u001b[0m 2s/step - accuracy: 0.9104 - loss: 0.5346 - val_accuracy: 0.8843 - val_loss: 0.9949\n",
            "Epoch 13/20\n",
            "\u001b[1m22/22\u001b[0m \u001b[32m━━━━━━━━━━━━━━━━━━━━\u001b[0m\u001b[37m\u001b[0m \u001b[1m53s\u001b[0m 2s/step - accuracy: 0.9136 - loss: 0.5058 - val_accuracy: 0.8740 - val_loss: 0.8724\n",
            "Epoch 14/20\n",
            "\u001b[1m22/22\u001b[0m \u001b[32m━━━━━━━━━━━━━━━━━━━━\u001b[0m\u001b[37m\u001b[0m \u001b[1m52s\u001b[0m 2s/step - accuracy: 0.9209 - loss: 0.4525 - val_accuracy: 0.8817 - val_loss: 0.8423\n",
            "Epoch 15/20\n",
            "\u001b[1m22/22\u001b[0m \u001b[32m━━━━━━━━━━━━━━━━━━━━\u001b[0m\u001b[37m\u001b[0m \u001b[1m54s\u001b[0m 2s/step - accuracy: 0.9151 - loss: 0.4419 - val_accuracy: 0.9075 - val_loss: 0.7302\n",
            "Epoch 16/20\n",
            "\u001b[1m22/22\u001b[0m \u001b[32m━━━━━━━━━━━━━━━━━━━━\u001b[0m\u001b[37m\u001b[0m \u001b[1m52s\u001b[0m 2s/step - accuracy: 0.9216 - loss: 0.4249 - val_accuracy: 0.9332 - val_loss: 0.5908\n",
            "Epoch 17/20\n",
            "\u001b[1m22/22\u001b[0m \u001b[32m━━━━━━━━━━━━━━━━━━━━\u001b[0m\u001b[37m\u001b[0m \u001b[1m62s\u001b[0m 3s/step - accuracy: 0.9203 - loss: 0.4046 - val_accuracy: 0.9075 - val_loss: 0.6042\n",
            "Epoch 18/20\n",
            "\u001b[1m22/22\u001b[0m \u001b[32m━━━━━━━━━━━━━━━━━━━━\u001b[0m\u001b[37m\u001b[0m \u001b[1m52s\u001b[0m 2s/step - accuracy: 0.9229 - loss: 0.3943 - val_accuracy: 0.9254 - val_loss: 0.5500\n",
            "Epoch 19/20\n",
            "\u001b[1m22/22\u001b[0m \u001b[32m━━━━━━━━━━━━━━━━━━━━\u001b[0m\u001b[37m\u001b[0m \u001b[1m58s\u001b[0m 3s/step - accuracy: 0.9288 - loss: 0.3803 - val_accuracy: 0.9203 - val_loss: 0.4927\n",
            "Epoch 20/20\n",
            "\u001b[1m22/22\u001b[0m \u001b[32m━━━━━━━━━━━━━━━━━━━━\u001b[0m\u001b[37m\u001b[0m \u001b[1m77s\u001b[0m 2s/step - accuracy: 0.9416 - loss: 0.3634 - val_accuracy: 0.9280 - val_loss: 0.4442\n"
          ]
        }
      ]
    },
    {
      "cell_type": "code",
      "source": [
        "import matplotlib.pyplot as plt\n",
        "plt.plot(history1.history['accuracy'], label='training_accuracy')\n",
        "plt.plot(history1.history['val_accuracy'], label = 'test_accuracy')\n",
        "plt.ylabel('Accuracy')\n",
        "plt.xlabel('Epoch')\n",
        "plt.title(\"CNN1\")\n",
        "\n"
      ],
      "metadata": {
        "colab": {
          "base_uri": "https://localhost:8080/",
          "height": 489
        },
        "id": "ceklKgWKTie4",
        "outputId": "8478e200-c973-4f30-c5c9-898578af3c8b"
      },
      "execution_count": null,
      "outputs": [
        {
          "output_type": "execute_result",
          "data": {
            "text/plain": [
              "Text(0.5, 1.0, 'CNN1')"
            ]
          },
          "metadata": {},
          "execution_count": 20
        },
        {
          "output_type": "display_data",
          "data": {
            "text/plain": [
              "<Figure size 640x480 with 1 Axes>"
            ],
            "image/png": "[encoded data removed]"
          },
          "metadata": {}
        }
      ]
    },
    {
      "cell_type": "markdown",
      "source": [
        "Model 2\n"
      ],
      "metadata": {
        "id": "l4lNeyGkULSN"
      }
    },
    {
      "cell_type": "code",
      "source": [
        "def cnn2():\n",
        "  cnn2 = Sequential()\n",
        "\n",
        "\n",
        "  cnn2.add(Conv2D(32, (3, 3), activation='relu', input_shape=(Width, Height, Channels)))\n",
        "  cnn2.add(BatchNormalization())\n",
        "  cnn2.add(MaxPooling2D((2, 2)))\n",
        "  cnn2.add(Dropout(0.3,seed=44))\n",
        "\n",
        "\n",
        "  cnn2.add(Conv2D(32, (3, 3), activation='relu'))\n",
        "  cnn2.add(MaxPooling2D((2, 2)))\n",
        "  cnn2.add(Dropout(0.4,seed=44))\n",
        "\n",
        "  cnn2.add(Conv2D(32, (3, 3), activation='relu'))\n",
        "  cnn2.add(MaxPooling2D((2, 2)))\n",
        "  cnn2.add(Dropout(0.4,seed=44))\n",
        "\n",
        "  cnn2.add(Flatten())\n",
        "  cnn2.add(Dense(64,activation='relu',kernel_regularizer=regularizers.l2(0.005)))\n",
        "  cnn2.add(Dropout(0.4,seed=44))\n",
        "\n",
        "  cnn2.add(Dense(3, activation='softmax'))\n",
        "  custom_adam = Adam(learning_rate=0.0003)\n",
        "\n",
        "  cnn2.compile(loss='categorical_crossentropy', optimizer = 'Adam', metrics = ['accuracy'])\n",
        "\n",
        "  return cnn2"
      ],
      "metadata": {
        "id": "8aI3wfBwUbs5"
      },
      "execution_count": null,
      "outputs": []
    },
    {
      "cell_type": "code",
      "source": [
        "model_to_train2 = cnn2()\n",
        "history2 = model_to_train2.fit(\n",
        "    train_gen,\n",
        "    epochs= 20,\n",
        "    validation_data=valid_gen,\n",
        "    )"
      ],
      "metadata": {
        "colab": {
          "base_uri": "https://localhost:8080/"
        },
        "id": "j3L9HVx0bsXZ",
        "outputId": "091e1b8a-bd64-4617-cc63-470ceb241fa5"
      },
      "execution_count": null,
      "outputs": [
        {
          "output_type": "stream",
          "name": "stdout",
          "text": [
            "Epoch 1/20\n",
            "\u001b[1m22/22\u001b[0m \u001b[32m━━━━━━━━━━━━━━━━━━━━\u001b[0m\u001b[37m\u001b[0m \u001b[1m33s\u001b[0m 1s/step - accuracy: 0.3702 - loss: 2.5152 - val_accuracy: 0.5758 - val_loss: 1.6758\n",
            "Epoch 2/20\n",
            "\u001b[1m22/22\u001b[0m \u001b[32m━━━━━━━━━━━━━━━━━━━━\u001b[0m\u001b[37m\u001b[0m \u001b[1m27s\u001b[0m 1s/step - accuracy: 0.5549 - loss: 1.5567 - val_accuracy: 0.6067 - val_loss: 1.6091\n",
            "Epoch 3/20\n",
            "\u001b[1m22/22\u001b[0m \u001b[32m━━━━━━━━━━━━━━━━━━━━\u001b[0m\u001b[37m\u001b[0m \u001b[1m27s\u001b[0m 1s/step - accuracy: 0.6934 - loss: 1.2364 - val_accuracy: 0.7481 - val_loss: 1.5654\n",
            "Epoch 4/20\n",
            "\u001b[1m22/22\u001b[0m \u001b[32m━━━━━━━━━━━━━━━━━━━━\u001b[0m\u001b[37m\u001b[0m \u001b[1m26s\u001b[0m 1s/step - accuracy: 0.8271 - loss: 0.9609 - val_accuracy: 0.7789 - val_loss: 1.5296\n",
            "Epoch 5/20\n",
            "\u001b[1m22/22\u001b[0m \u001b[32m━━━━━━━━━━━━━━━━━━━━\u001b[0m\u001b[37m\u001b[0m \u001b[1m41s\u001b[0m 1s/step - accuracy: 0.8305 - loss: 0.8955 - val_accuracy: 0.8792 - val_loss: 1.4801\n",
            "Epoch 6/20\n",
            "\u001b[1m22/22\u001b[0m \u001b[32m━━━━━━━━━━━━━━━━━━━━\u001b[0m\u001b[37m\u001b[0m \u001b[1m41s\u001b[0m 1s/step - accuracy: 0.8988 - loss: 0.7170 - val_accuracy: 0.8458 - val_loss: 1.4372\n",
            "Epoch 7/20\n",
            "\u001b[1m22/22\u001b[0m \u001b[32m━━━━━━━━━━━━━━━━━━━━\u001b[0m\u001b[37m\u001b[0m \u001b[1m26s\u001b[0m 1s/step - accuracy: 0.8957 - loss: 0.6971 - val_accuracy: 0.8817 - val_loss: 1.3678\n",
            "Epoch 8/20\n",
            "\u001b[1m22/22\u001b[0m \u001b[32m━━━━━━━━━━━━━━━━━━━━\u001b[0m\u001b[37m\u001b[0m \u001b[1m26s\u001b[0m 1s/step - accuracy: 0.9170 - loss: 0.5929 - val_accuracy: 0.8972 - val_loss: 1.2806\n",
            "Epoch 9/20\n",
            "\u001b[1m22/22\u001b[0m \u001b[32m━━━━━━━━━━━━━━━━━━━━\u001b[0m\u001b[37m\u001b[0m \u001b[1m26s\u001b[0m 1s/step - accuracy: 0.9416 - loss: 0.5329 - val_accuracy: 0.9126 - val_loss: 1.2148\n",
            "Epoch 10/20\n",
            "\u001b[1m22/22\u001b[0m \u001b[32m━━━━━━━━━━━━━━━━━━━━\u001b[0m\u001b[37m\u001b[0m \u001b[1m26s\u001b[0m 1s/step - accuracy: 0.9411 - loss: 0.5102 - val_accuracy: 0.8895 - val_loss: 1.1698\n",
            "Epoch 11/20\n",
            "\u001b[1m22/22\u001b[0m \u001b[32m━━━━━━━━━━━━━━━━━━━━\u001b[0m\u001b[37m\u001b[0m \u001b[1m26s\u001b[0m 1s/step - accuracy: 0.9453 - loss: 0.4697 - val_accuracy: 0.9254 - val_loss: 1.0375\n",
            "Epoch 12/20\n",
            "\u001b[1m22/22\u001b[0m \u001b[32m━━━━━━━━━━━━━━━━━━━━\u001b[0m\u001b[37m\u001b[0m \u001b[1m26s\u001b[0m 1s/step - accuracy: 0.9313 - loss: 0.4766 - val_accuracy: 0.9589 - val_loss: 0.9389\n",
            "Epoch 13/20\n",
            "\u001b[1m22/22\u001b[0m \u001b[32m━━━━━━━━━━━━━━━━━━━━\u001b[0m\u001b[37m\u001b[0m \u001b[1m26s\u001b[0m 1s/step - accuracy: 0.9577 - loss: 0.4163 - val_accuracy: 0.9434 - val_loss: 0.8996\n",
            "Epoch 14/20\n",
            "\u001b[1m22/22\u001b[0m \u001b[32m━━━━━━━━━━━━━━━━━━━━\u001b[0m\u001b[37m\u001b[0m \u001b[1m26s\u001b[0m 1s/step - accuracy: 0.9729 - loss: 0.3617 - val_accuracy: 0.9717 - val_loss: 0.6204\n",
            "Epoch 15/20\n",
            "\u001b[1m22/22\u001b[0m \u001b[32m━━━━━━━━━━━━━━━━━━━━\u001b[0m\u001b[37m\u001b[0m \u001b[1m26s\u001b[0m 1s/step - accuracy: 0.9729 - loss: 0.3279 - val_accuracy: 0.9512 - val_loss: 0.6815\n",
            "Epoch 16/20\n",
            "\u001b[1m22/22\u001b[0m \u001b[32m━━━━━━━━━━━━━━━━━━━━\u001b[0m\u001b[37m\u001b[0m \u001b[1m26s\u001b[0m 1s/step - accuracy: 0.9645 - loss: 0.3505 - val_accuracy: 0.9640 - val_loss: 0.4888\n",
            "Epoch 17/20\n",
            "\u001b[1m22/22\u001b[0m \u001b[32m━━━━━━━━━━━━━━━━━━━━\u001b[0m\u001b[37m\u001b[0m \u001b[1m26s\u001b[0m 1s/step - accuracy: 0.9699 - loss: 0.3030 - val_accuracy: 0.9537 - val_loss: 0.5369\n",
            "Epoch 18/20\n",
            "\u001b[1m22/22\u001b[0m \u001b[32m━━━━━━━━━━━━━━━━━━━━\u001b[0m\u001b[37m\u001b[0m \u001b[1m26s\u001b[0m 1s/step - accuracy: 0.9523 - loss: 0.3401 - val_accuracy: 0.9589 - val_loss: 0.5066\n",
            "Epoch 19/20\n",
            "\u001b[1m22/22\u001b[0m \u001b[32m━━━━━━━━━━━━━━━━━━━━\u001b[0m\u001b[37m\u001b[0m \u001b[1m26s\u001b[0m 1s/step - accuracy: 0.9744 - loss: 0.2829 - val_accuracy: 0.9460 - val_loss: 0.4878\n",
            "Epoch 20/20\n",
            "\u001b[1m22/22\u001b[0m \u001b[32m━━━━━━━━━━━━━━━━━━━━\u001b[0m\u001b[37m\u001b[0m \u001b[1m26s\u001b[0m 1s/step - accuracy: 0.9797 - loss: 0.2637 - val_accuracy: 0.9769 - val_loss: 0.3342\n"
          ]
        }
      ]
    },
    {
      "cell_type": "code",
      "source": [
        "import matplotlib.pyplot as plt\n",
        "plt.plot(history2.history['accuracy'], label='training_accuracy')\n",
        "plt.plot(history2.history['val_accuracy'], label = 'test_accuracy')\n",
        "plt.ylabel('Accuracy')\n",
        "plt.xlabel('Epoch')\n",
        "plt.title(\"CNN2\")"
      ],
      "metadata": {
        "colab": {
          "base_uri": "https://localhost:8080/",
          "height": 489
        },
        "id": "kzJZT3yHox2d",
        "outputId": "6b71b103-9e41-4a0e-c541-bd6e2a431de0"
      },
      "execution_count": null,
      "outputs": [
        {
          "output_type": "execute_result",
          "data": {
            "text/plain": [
              "Text(0.5, 1.0, 'CNN2')"
            ]
          },
          "metadata": {},
          "execution_count": 23
        },
        {
          "output_type": "display_data",
          "data": {
            "text/plain": [
              "<Figure size 640x480 with 1 Axes>"
            ],
            "image/png": "[encoded data removed]"
          },
          "metadata": {}
        }
      ]
    },
    {
      "cell_type": "markdown",
      "source": [
        "Model 3"
      ],
      "metadata": {
        "id": "tzWnB-RsB2Tc"
      }
    },
    {
      "cell_type": "code",
      "source": [
        "def cnn3():\n",
        "  cnn3 = Sequential()\n",
        "\n",
        "\n",
        "  cnn3.add(Conv2D(64, (3, 3), activation='relu', input_shape=(Width, Height, Channels)))\n",
        "  cnn3.add(BatchNormalization())\n",
        "  cnn3.add(MaxPooling2D((2, 2)))\n",
        "  cnn3.add(Dropout(0.3,seed=44))\n",
        "\n",
        "\n",
        "  cnn3.add(Conv2D(64, (3, 3), activation='relu'))\n",
        "  cnn3.add(MaxPooling2D((2, 2)))\n",
        "  cnn3.add(Dropout(0.4,seed=44))\n",
        "\n",
        "  cnn3.add(Conv2D(64, (3, 3), activation='relu'))\n",
        "  cnn3.add(MaxPooling2D((2, 2)))\n",
        "  cnn3.add(Dropout(0.4,seed=44))\n",
        "\n",
        "  cnn3.add(Flatten())\n",
        "  cnn3.add(Dense(64,activation='relu',kernel_regularizer=regularizers.l2(0.005)))\n",
        "  cnn3.add(Dropout(0.4,seed=44))\n",
        "\n",
        "  cnn3.add(Dense(3, activation='softmax'))\n",
        "  custom_adam = Adam(learning_rate=0.0003)\n",
        "\n",
        "  cnn3.compile(loss='categorical_crossentropy', optimizer = 'Adam', metrics = ['accuracy'])\n",
        "\n",
        "  return cnn3"
      ],
      "metadata": {
        "id": "f94RuwVGB5fl"
      },
      "execution_count": null,
      "outputs": []
    },
    {
      "cell_type": "code",
      "source": [
        "model_to_train3 = cnn3()\n",
        "history3 = model_to_train3.fit(\n",
        "    train_gen,\n",
        "    epochs= 20,\n",
        "    validation_data=valid_gen,\n",
        "   )"
      ],
      "metadata": {
        "colab": {
          "base_uri": "https://localhost:8080/"
        },
        "id": "sgajxvPVCWxj",
        "outputId": "c3de1cd0-7149-453f-e5e6-71cadd539971"
      },
      "execution_count": null,
      "outputs": [
        {
          "output_type": "stream",
          "name": "stdout",
          "text": [
            "Epoch 1/20\n",
            "\u001b[1m22/22\u001b[0m \u001b[32m━━━━━━━━━━━━━━━━━━━━\u001b[0m\u001b[37m\u001b[0m \u001b[1m58s\u001b[0m 3s/step - accuracy: 0.3820 - loss: 2.8013 - val_accuracy: 0.4396 - val_loss: 1.6809\n",
            "Epoch 2/20\n",
            "\u001b[1m22/22\u001b[0m \u001b[32m━━━━━━━━━━━━━━━━━━━━\u001b[0m\u001b[37m\u001b[0m \u001b[1m54s\u001b[0m 2s/step - accuracy: 0.5938 - loss: 1.5394 - val_accuracy: 0.6247 - val_loss: 1.5961\n",
            "Epoch 3/20\n",
            "\u001b[1m22/22\u001b[0m \u001b[32m━━━━━━━━━━━━━━━━━━━━\u001b[0m\u001b[37m\u001b[0m \u001b[1m53s\u001b[0m 2s/step - accuracy: 0.7547 - loss: 1.1280 - val_accuracy: 0.5167 - val_loss: 1.5289\n",
            "Epoch 4/20\n",
            "\u001b[1m22/22\u001b[0m \u001b[32m━━━━━━━━━━━━━━━━━━━━\u001b[0m\u001b[37m\u001b[0m \u001b[1m53s\u001b[0m 2s/step - accuracy: 0.8430 - loss: 0.8426 - val_accuracy: 0.5039 - val_loss: 1.4857\n",
            "Epoch 5/20\n",
            "\u001b[1m22/22\u001b[0m \u001b[32m━━━━━━━━━━━━━━━━━━━━\u001b[0m\u001b[37m\u001b[0m \u001b[1m53s\u001b[0m 2s/step - accuracy: 0.8746 - loss: 0.7262 - val_accuracy: 0.5810 - val_loss: 1.4179\n",
            "Epoch 6/20\n",
            "\u001b[1m22/22\u001b[0m \u001b[32m━━━━━━━━━━━━━━━━━━━━\u001b[0m\u001b[37m\u001b[0m \u001b[1m57s\u001b[0m 3s/step - accuracy: 0.9180 - loss: 0.5986 - val_accuracy: 0.5784 - val_loss: 1.3322\n",
            "Epoch 7/20\n",
            "\u001b[1m22/22\u001b[0m \u001b[32m━━━━━━━━━━━━━━━━━━━━\u001b[0m\u001b[37m\u001b[0m \u001b[1m58s\u001b[0m 3s/step - accuracy: 0.9371 - loss: 0.5017 - val_accuracy: 0.5347 - val_loss: 1.2593\n",
            "Epoch 8/20\n",
            "\u001b[1m22/22\u001b[0m \u001b[32m━━━━━━━━━━━━━━━━━━━━\u001b[0m\u001b[37m\u001b[0m \u001b[1m52s\u001b[0m 2s/step - accuracy: 0.9489 - loss: 0.4419 - val_accuracy: 0.5861 - val_loss: 1.1846\n",
            "Epoch 9/20\n",
            "\u001b[1m22/22\u001b[0m \u001b[32m━━━━━━━━━━━━━━━━━━━━\u001b[0m\u001b[37m\u001b[0m \u001b[1m53s\u001b[0m 2s/step - accuracy: 0.9642 - loss: 0.3815 - val_accuracy: 0.6889 - val_loss: 1.0762\n",
            "Epoch 10/20\n",
            "\u001b[1m22/22\u001b[0m \u001b[32m━━━━━━━━━━━━━━━━━━━━\u001b[0m\u001b[37m\u001b[0m \u001b[1m54s\u001b[0m 2s/step - accuracy: 0.9499 - loss: 0.3771 - val_accuracy: 0.6504 - val_loss: 0.9989\n",
            "Epoch 11/20\n",
            "\u001b[1m22/22\u001b[0m \u001b[32m━━━━━━━━━━━━━━━━━━━━\u001b[0m\u001b[37m\u001b[0m \u001b[1m57s\u001b[0m 3s/step - accuracy: 0.9614 - loss: 0.3377 - val_accuracy: 0.9486 - val_loss: 0.7301\n",
            "Epoch 12/20\n",
            "\u001b[1m22/22\u001b[0m \u001b[32m━━━━━━━━━━━━━━━━━━━━\u001b[0m\u001b[37m\u001b[0m \u001b[1m55s\u001b[0m 2s/step - accuracy: 0.9604 - loss: 0.3296 - val_accuracy: 0.6144 - val_loss: 0.9884\n",
            "Epoch 13/20\n",
            "\u001b[1m22/22\u001b[0m \u001b[32m━━━━━━━━━━━━━━━━━━━━\u001b[0m\u001b[37m\u001b[0m \u001b[1m54s\u001b[0m 2s/step - accuracy: 0.9610 - loss: 0.2844 - val_accuracy: 0.9409 - val_loss: 0.6022\n",
            "Epoch 14/20\n",
            "\u001b[1m22/22\u001b[0m \u001b[32m━━━━━━━━━━━━━━━━━━━━\u001b[0m\u001b[37m\u001b[0m \u001b[1m54s\u001b[0m 2s/step - accuracy: 0.9784 - loss: 0.2463 - val_accuracy: 0.7455 - val_loss: 0.7481\n",
            "Epoch 15/20\n",
            "\u001b[1m22/22\u001b[0m \u001b[32m━━━━━━━━━━━━━━━━━━━━\u001b[0m\u001b[37m\u001b[0m \u001b[1m53s\u001b[0m 2s/step - accuracy: 0.9693 - loss: 0.2498 - val_accuracy: 0.8509 - val_loss: 0.5885\n",
            "Epoch 16/20\n",
            "\u001b[1m22/22\u001b[0m \u001b[32m━━━━━━━━━━━━━━━━━━━━\u001b[0m\u001b[37m\u001b[0m \u001b[1m55s\u001b[0m 2s/step - accuracy: 0.9742 - loss: 0.2255 - val_accuracy: 0.9254 - val_loss: 0.3964\n",
            "Epoch 17/20\n",
            "\u001b[1m22/22\u001b[0m \u001b[32m━━━━━━━━━━━━━━━━━━━━\u001b[0m\u001b[37m\u001b[0m \u001b[1m53s\u001b[0m 2s/step - accuracy: 0.9863 - loss: 0.1975 - val_accuracy: 0.8278 - val_loss: 0.5378\n",
            "Epoch 18/20\n",
            "\u001b[1m22/22\u001b[0m \u001b[32m━━━━━━━━━━━━━━━━━━━━\u001b[0m\u001b[37m\u001b[0m \u001b[1m54s\u001b[0m 2s/step - accuracy: 0.9782 - loss: 0.2015 - val_accuracy: 0.9126 - val_loss: 0.4160\n",
            "Epoch 19/20\n",
            "\u001b[1m22/22\u001b[0m \u001b[32m━━━━━━━━━━━━━━━━━━━━\u001b[0m\u001b[37m\u001b[0m \u001b[1m56s\u001b[0m 3s/step - accuracy: 0.9692 - loss: 0.2225 - val_accuracy: 0.9717 - val_loss: 0.2727\n",
            "Epoch 20/20\n",
            "\u001b[1m22/22\u001b[0m \u001b[32m━━━━━━━━━━━━━━━━━━━━\u001b[0m\u001b[37m\u001b[0m \u001b[1m55s\u001b[0m 3s/step - accuracy: 0.9831 - loss: 0.1866 - val_accuracy: 0.9640 - val_loss: 0.2448\n"
          ]
        }
      ]
    },
    {
      "cell_type": "code",
      "source": [
        "import matplotlib.pyplot as plt\n",
        "plt.plot(history3.history['accuracy'], label='training_accuracy')\n",
        "plt.plot(history3.history['val_accuracy'], label = 'test_accuracy')\n",
        "plt.ylabel('Accuracy')\n",
        "plt.xlabel('Epoch')\n",
        "plt.title(\"CNN3\")"
      ],
      "metadata": {
        "colab": {
          "base_uri": "https://localhost:8080/",
          "height": 489
        },
        "id": "p7QWjSiwEG5K",
        "outputId": "2e9d1324-09d7-4369-9bbf-a073b51070a0"
      },
      "execution_count": null,
      "outputs": [
        {
          "output_type": "execute_result",
          "data": {
            "text/plain": [
              "Text(0.5, 1.0, 'CNN3')"
            ]
          },
          "metadata": {},
          "execution_count": 36
        },
        {
          "output_type": "display_data",
          "data": {
            "text/plain": [
              "<Figure size 640x480 with 1 Axes>"
            ],
            "image/png": "[encoded data removed]"
          },
          "metadata": {}
        }
      ]
    },
    {
      "cell_type": "markdown",
      "source": [
        "Code forevaluation and analysis\n"
      ],
      "metadata": {
        "id": "BvAjSrLwfWdv"
      }
    },
    {
      "cell_type": "code",
      "source": [
        "test_loss, test_acc = model_to_train.evaluate(test_gen)\n",
        "print(\"Test Loss: \"+str(test_loss))\n",
        "print(\"Test Accuracy: \"+str(test_acc))"
      ],
      "metadata": {
        "colab": {
          "base_uri": "https://localhost:8080/"
        },
        "id": "C3Cug7kTbNDw",
        "outputId": "23826d1a-6cbc-49a1-bfb9-2aed135b6ea8"
      },
      "execution_count": null,
      "outputs": [
        {
          "output_type": "stream",
          "name": "stdout",
          "text": [
            "\u001b[1m7/7\u001b[0m \u001b[32m━━━━━━━━━━━━━━━━━━━━\u001b[0m\u001b[37m\u001b[0m \u001b[1m3s\u001b[0m 416ms/step - accuracy: 0.9532 - loss: 0.4215\n",
            "Test Loss: 0.4221484065055847\n",
            "Test Accuracy: 0.9589040875434875\n"
          ]
        }
      ]
    },
    {
      "cell_type": "code",
      "source": [
        "test_loss, test_acc = model_to_train2.evaluate(test_gen)\n",
        "print(\"Test Loss: \"+str(test_loss))\n",
        "print(\"Test Accuracy: \"+str(test_acc))"
      ],
      "metadata": {
        "colab": {
          "base_uri": "https://localhost:8080/"
        },
        "id": "frvVwxTxa9Vt",
        "outputId": "30009583-e572-4776-8175-4d0d8e2b9067"
      },
      "execution_count": null,
      "outputs": [
        {
          "output_type": "stream",
          "name": "stdout",
          "text": [
            "\u001b[1m7/7\u001b[0m \u001b[32m━━━━━━━━━━━━━━━━━━━━\u001b[0m\u001b[37m\u001b[0m \u001b[1m2s\u001b[0m 256ms/step - accuracy: 0.9836 - loss: 0.3552\n",
            "Test Loss: 0.34743908047676086\n",
            "Test Accuracy: 0.9794520735740662\n"
          ]
        }
      ]
    },
    {
      "cell_type": "code",
      "source": [
        "test_loss, test_acc = model_to_train3.evaluate(test_gen)\n",
        "print(\"Test Loss: \"+str(test_loss))\n",
        "print(\"Test Accuracy: \"+str(test_acc))"
      ],
      "metadata": {
        "colab": {
          "base_uri": "https://localhost:8080/"
        },
        "id": "pXr4JAa7ahAS",
        "outputId": "fa1e4ca3-ebf2-4675-a8ac-8741a81dc902"
      },
      "execution_count": null,
      "outputs": [
        {
          "output_type": "stream",
          "name": "stdout",
          "text": [
            "\u001b[1m7/7\u001b[0m \u001b[32m━━━━━━━━━━━━━━━━━━━━\u001b[0m\u001b[37m\u001b[0m \u001b[1m4s\u001b[0m 561ms/step - accuracy: 0.9688 - loss: 0.2675\n",
            "Test Loss: 0.27807459235191345\n",
            "Test Accuracy: 0.9680365324020386\n"
          ]
        }
      ]
    },
    {
      "cell_type": "code",
      "source": [
        "plt.plot(history1.history['loss'], label='training_loss')\n",
        "plt.plot(history1.history['val_loss'], label = 'Validation_loss')\n",
        "plt.xlabel('Epoch')\n",
        "plt.ylabel('Loss')\n",
        "plt.legend()\n",
        "plt.title(\"CNN1\")"
      ],
      "metadata": {
        "colab": {
          "base_uri": "https://localhost:8080/",
          "height": 489
        },
        "id": "lioFw4JQffZR",
        "outputId": "44d0304e-4f61-49f0-e27f-b847744c987f"
      },
      "execution_count": null,
      "outputs": [
        {
          "output_type": "execute_result",
          "data": {
            "text/plain": [
              "Text(0.5, 1.0, 'CNN1')"
            ]
          },
          "metadata": {},
          "execution_count": 30
        },
        {
          "output_type": "display_data",
          "data": {
            "text/plain": [
              "<Figure size 640x480 with 1 Axes>"
            ],
            "image/png": "[encoded data removed]"
          },
          "metadata": {}
        }
      ]
    },
    {
      "cell_type": "code",
      "source": [
        "plt.plot(history2.history['loss'], label='training_loss')\n",
        "plt.plot(history2.history['val_loss'], label = 'Validation_loss')\n",
        "plt.xlabel('Epoch')\n",
        "plt.ylabel('Loss')\n",
        "plt.legend()\n",
        "plt.title(\"CNN2\")"
      ],
      "metadata": {
        "colab": {
          "base_uri": "https://localhost:8080/",
          "height": 489
        },
        "id": "IEpXIZNehbuQ",
        "outputId": "e39ebfdd-9f74-42dc-856e-eb2730e0fd96"
      },
      "execution_count": null,
      "outputs": [
        {
          "output_type": "execute_result",
          "data": {
            "text/plain": [
              "Text(0.5, 1.0, 'CNN2')"
            ]
          },
          "metadata": {},
          "execution_count": 31
        },
        {
          "output_type": "display_data",
          "data": {
            "text/plain": [
              "<Figure size 640x480 with 1 Axes>"
            ],
            "image/png": "[encoded data removed]"
          },
          "metadata": {}
        }
      ]
    },
    {
      "cell_type": "code",
      "source": [
        "plt.plot(history3.history['loss'], label='training_loss')\n",
        "plt.plot(history3.history['val_loss'], label = 'Validation_loss')\n",
        "plt.xlabel('Epoch')\n",
        "plt.ylabel('Loss')\n",
        "plt.legend()\n",
        "plt.title(\"CNN3\")"
      ],
      "metadata": {
        "colab": {
          "base_uri": "https://localhost:8080/",
          "height": 489
        },
        "id": "wqIbmwR4hftA",
        "outputId": "2192fa4b-46ac-4669-9ab8-b4df96bf2b25"
      },
      "execution_count": null,
      "outputs": [
        {
          "output_type": "execute_result",
          "data": {
            "text/plain": [
              "Text(0.5, 1.0, 'CNN3')"
            ]
          },
          "metadata": {},
          "execution_count": 37
        },
        {
          "output_type": "display_data",
          "data": {
            "text/plain": [
              "<Figure size 640x480 with 1 Axes>"
            ],
            "image/png": "[encoded data removed]"
          },
          "metadata": {}
        }
      ]
    },
    {
      "cell_type": "markdown",
      "source": [
        "Cross validation"
      ],
      "metadata": {
        "id": "h0OQge9uaIEp"
      }
    },
    {
      "cell_type": "code",
      "source": [
        "test_accuracy= []\n",
        "test_loss = []\n"
      ],
      "metadata": {
        "id": "rUsnzjFYhJ2d"
      },
      "execution_count": null,
      "outputs": []
    },
    {
      "cell_type": "code",
      "source": [
        "from sklearn.model_selection import KFold\n",
        "\n",
        "kfold = KFold(n_splits=3, shuffle=True, random_state=87)\n",
        "for fold, (train_index, test_index) in enumerate(kfold.split(df)):\n",
        "    train_data = df.iloc[train_index]\n",
        "    test_data = df.iloc[test_index]\n",
        "    train_data = train_data.reset_index(drop=True)\n",
        "    test_data = test_data.reset_index(drop=True)\n",
        "\n",
        "    data_generator = ImageDataGenerator(rescale=1./255)\n",
        "    test_gen = data_generator.flow_from_dataframe(dataframe = test_data,\n",
        "                                                        directory=None,\n",
        "                                                        x_col=\"paths\", y_col=\"label\",\n",
        "                                                        batch_size=64, seed = 55,\n",
        "                                                        shuffle=True, class_mode=\"categorical\",\n",
        "                                                        target_size=Size)\n",
        "train_gen = data_generator.flow_from_dataframe(dataframe = train_data,\n",
        "                                                        directory=None,\n",
        "                                                        x_col=\"paths\", y_col=\"label\",\n",
        "                                                        batch_size=64, seed = 55,\n",
        "                                                        shuffle=True, class_mode=\"categorical\",\n",
        "                                                        target_size=Size)\n",
        "valid_gen = data_generator.flow_from_dataframe(dataframe = validation_data,\n",
        "                                                        directory=None,\n",
        "                                                        x_col=\"paths\", y_col=\"label\",\n",
        "                                                        batch_size=64, seed = 55,\n",
        "                                                        shuffle=True, class_mode=\"categorical\",\n",
        "                                                        target_size=Size)\n",
        "\n",
        "cv= model_to_train3\n",
        "cv.compile(loss='binary_crossentropy', optimizer='Adam',metrics=['accuracy'])\n",
        "\n",
        "history_of_cv = cv.fit(\n",
        "        train_gen,\n",
        "        validation_data=test_gen,\n",
        "        epochs=20\n",
        "        )"
      ],
      "metadata": {
        "colab": {
          "base_uri": "https://localhost:8080/"
        },
        "id": "kMbwWHeqiPpB",
        "outputId": "6eaf7757-d9b2-40ed-de2f-d052faa0f4a3"
      },
      "execution_count": null,
      "outputs": [
        {
          "output_type": "stream",
          "name": "stdout",
          "text": [
            "Found 438 validated image filenames belonging to 3 classes.\n",
            "Found 438 validated image filenames belonging to 3 classes.\n",
            "Found 438 validated image filenames belonging to 3 classes.\n",
            "Found 1361 validated image filenames belonging to 3 classes.\n",
            "Found 389 validated image filenames belonging to 3 classes.\n"
          ]
        },
        {
          "output_type": "stream",
          "name": "stderr",
          "text": [
            "/usr/local/lib/python3.12/dist-packages/keras/src/trainers/data_adapters/py_dataset_adapter.py:121: UserWarning: Your `PyDataset` class should call `super().__init__(**kwargs)` in its constructor. `**kwargs` can include `workers`, `use_multiprocessing`, `max_queue_size`. Do not pass these arguments to `fit()`, as they will be ignored.\n",
            "  self._warn_if_super_not_called()\n"
          ]
        },
        {
          "output_type": "stream",
          "name": "stdout",
          "text": [
            "Epoch 1/20\n",
            "\u001b[1m22/22\u001b[0m \u001b[32m━━━━━━━━━━━━━━━━━━━━\u001b[0m\u001b[37m\u001b[0m \u001b[1m0s\u001b[0m 2s/step - accuracy: 0.9497 - loss: 0.4771"
          ]
        },
        {
          "output_type": "stream",
          "name": "stderr",
          "text": [
            "/usr/local/lib/python3.12/dist-packages/keras/src/trainers/data_adapters/py_dataset_adapter.py:121: UserWarning: Your `PyDataset` class should call `super().__init__(**kwargs)` in its constructor. `**kwargs` can include `workers`, `use_multiprocessing`, `max_queue_size`. Do not pass these arguments to `fit()`, as they will be ignored.\n",
            "  self._warn_if_super_not_called()\n"
          ]
        },
        {
          "output_type": "stream",
          "name": "stdout",
          "text": [
            "\b\b\b\b\b\b\b\b\b\b\b\b\b\b\b\b\b\b\b\b\b\b\b\b\b\b\b\b\b\b\b\b\b\b\b\b\b\b\b\b\b\b\b\b\b\b\b\b\b\b\b\b\b\b\b\b\b\b\b\b\b\b\b\b\b\b\b\b\b\b\b\r\u001b[1m22/22\u001b[0m \u001b[32m━━━━━━━━━━━━━━━━━━━━\u001b[0m\u001b[37m\u001b[0m \u001b[1m57s\u001b[0m 2s/step - accuracy: 0.9500 - loss: 0.4687 - val_accuracy: 0.9635 - val_loss: 0.2020\n",
            "Epoch 2/20\n",
            "\u001b[1m22/22\u001b[0m \u001b[32m━━━━━━━━━━━━━━━━━━━━\u001b[0m\u001b[37m\u001b[0m \u001b[1m56s\u001b[0m 3s/step - accuracy: 0.9776 - loss: 0.1330 - val_accuracy: 0.9658 - val_loss: 0.1540\n",
            "Epoch 3/20\n",
            "\u001b[1m22/22\u001b[0m \u001b[32m━━━━━━━━━━━━━━━━━━━━\u001b[0m\u001b[37m\u001b[0m \u001b[1m54s\u001b[0m 2s/step - accuracy: 0.9795 - loss: 0.1211 - val_accuracy: 0.9155 - val_loss: 0.2079\n",
            "Epoch 4/20\n",
            "\u001b[1m22/22\u001b[0m \u001b[32m━━━━━━━━━━━━━━━━━━━━\u001b[0m\u001b[37m\u001b[0m \u001b[1m53s\u001b[0m 2s/step - accuracy: 0.9845 - loss: 0.1002 - val_accuracy: 0.8699 - val_loss: 0.2764\n",
            "Epoch 5/20\n",
            "\u001b[1m22/22\u001b[0m \u001b[32m━━━━━━━━━━━━━━━━━━━━\u001b[0m\u001b[37m\u001b[0m \u001b[1m53s\u001b[0m 2s/step - accuracy: 0.9792 - loss: 0.1141 - val_accuracy: 0.9795 - val_loss: 0.1160\n",
            "Epoch 6/20\n",
            "\u001b[1m22/22\u001b[0m \u001b[32m━━━━━━━━━━━━━━━━━━━━\u001b[0m\u001b[37m\u001b[0m \u001b[1m53s\u001b[0m 2s/step - accuracy: 0.9872 - loss: 0.0873 - val_accuracy: 0.9612 - val_loss: 0.1393\n",
            "Epoch 7/20\n",
            "\u001b[1m22/22\u001b[0m \u001b[32m━━━━━━━━━━━━━━━━━━━━\u001b[0m\u001b[37m\u001b[0m \u001b[1m53s\u001b[0m 2s/step - accuracy: 0.9890 - loss: 0.0839 - val_accuracy: 0.9817 - val_loss: 0.0906\n",
            "Epoch 8/20\n",
            "\u001b[1m22/22\u001b[0m \u001b[32m━━━━━━━━━━━━━━━━━━━━\u001b[0m\u001b[37m\u001b[0m \u001b[1m54s\u001b[0m 2s/step - accuracy: 0.9945 - loss: 0.0674 - val_accuracy: 0.9726 - val_loss: 0.1021\n",
            "Epoch 9/20\n",
            "\u001b[1m22/22\u001b[0m \u001b[32m━━━━━━━━━━━━━━━━━━━━\u001b[0m\u001b[37m\u001b[0m \u001b[1m53s\u001b[0m 2s/step - accuracy: 0.9946 - loss: 0.0668 - val_accuracy: 0.9886 - val_loss: 0.0769\n",
            "Epoch 10/20\n",
            "\u001b[1m22/22\u001b[0m \u001b[32m━━━━━━━━━━━━━━━━━━━━\u001b[0m\u001b[37m\u001b[0m \u001b[1m53s\u001b[0m 2s/step - accuracy: 0.9882 - loss: 0.0708 - val_accuracy: 0.9680 - val_loss: 0.1169\n",
            "Epoch 11/20\n",
            "\u001b[1m22/22\u001b[0m \u001b[32m━━━━━━━━━━━━━━━━━━━━\u001b[0m\u001b[37m\u001b[0m \u001b[1m55s\u001b[0m 2s/step - accuracy: 0.9881 - loss: 0.0875 - val_accuracy: 0.9475 - val_loss: 0.1401\n",
            "Epoch 12/20\n",
            "\u001b[1m22/22\u001b[0m \u001b[32m━━━━━━━━━━━━━━━━━━━━\u001b[0m\u001b[37m\u001b[0m \u001b[1m54s\u001b[0m 2s/step - accuracy: 0.9939 - loss: 0.0761 - val_accuracy: 0.9726 - val_loss: 0.0934\n",
            "Epoch 13/20\n",
            "\u001b[1m22/22\u001b[0m \u001b[32m━━━━━━━━━━━━━━━━━━━━\u001b[0m\u001b[37m\u001b[0m \u001b[1m53s\u001b[0m 2s/step - accuracy: 0.9935 - loss: 0.0731 - val_accuracy: 0.9406 - val_loss: 0.1627\n",
            "Epoch 14/20\n",
            "\u001b[1m22/22\u001b[0m \u001b[32m━━━━━━━━━━━━━━━━━━━━\u001b[0m\u001b[37m\u001b[0m \u001b[1m53s\u001b[0m 2s/step - accuracy: 0.9986 - loss: 0.0648 - val_accuracy: 0.7603 - val_loss: 0.5441\n",
            "Epoch 15/20\n",
            "\u001b[1m22/22\u001b[0m \u001b[32m━━━━━━━━━━━━━━━━━━━━\u001b[0m\u001b[37m\u001b[0m \u001b[1m53s\u001b[0m 2s/step - accuracy: 0.9960 - loss: 0.0680 - val_accuracy: 0.9589 - val_loss: 0.1156\n",
            "Epoch 16/20\n",
            "\u001b[1m22/22\u001b[0m \u001b[32m━━━━━━━━━━━━━━━━━━━━\u001b[0m\u001b[37m\u001b[0m \u001b[1m53s\u001b[0m 2s/step - accuracy: 0.9897 - loss: 0.0641 - val_accuracy: 0.8356 - val_loss: 0.3626\n",
            "Epoch 17/20\n",
            "\u001b[1m22/22\u001b[0m \u001b[32m━━━━━━━━━━━━━━━━━━━━\u001b[0m\u001b[37m\u001b[0m \u001b[1m54s\u001b[0m 2s/step - accuracy: 0.9863 - loss: 0.0806 - val_accuracy: 0.9795 - val_loss: 0.0872\n",
            "Epoch 18/20\n",
            "\u001b[1m22/22\u001b[0m \u001b[32m━━━━━━━━━━━━━━━━━━━━\u001b[0m\u001b[37m\u001b[0m \u001b[1m54s\u001b[0m 2s/step - accuracy: 0.9877 - loss: 0.0718 - val_accuracy: 0.9886 - val_loss: 0.0758\n",
            "Epoch 19/20\n",
            "\u001b[1m22/22\u001b[0m \u001b[32m━━━━━━━━━━━━━━━━━━━━\u001b[0m\u001b[37m\u001b[0m \u001b[1m56s\u001b[0m 2s/step - accuracy: 0.9943 - loss: 0.0704 - val_accuracy: 0.9909 - val_loss: 0.0717\n",
            "Epoch 20/20\n",
            "\u001b[1m22/22\u001b[0m \u001b[32m━━━━━━━━━━━━━━━━━━━━\u001b[0m\u001b[37m\u001b[0m \u001b[1m54s\u001b[0m 2s/step - accuracy: 0.9880 - loss: 0.0746 - val_accuracy: 0.9909 - val_loss: 0.0699\n"
          ]
        }
      ]
    },
    {
      "cell_type": "code",
      "source": [
        "plt.figure(figsize=(10, 5))\n",
        "plt.subplot(1, 2, 1)\n",
        "plt.plot(history_of_cv.history['accuracy'], label='Training')\n",
        "plt.plot(history_of_cv.history['val_accuracy'], label='test validation')\n",
        "plt.title(f'Accuracy - Fold {fold+1}')\n",
        "plt.xlabel('Epoch')\n",
        "plt.ylabel('Accuracy')\n",
        "plt.legend()"
      ],
      "metadata": {
        "colab": {
          "base_uri": "https://localhost:8080/",
          "height": 504
        },
        "id": "w6zlVyIHqMS-",
        "outputId": "7314c08d-9c62-49da-8910-65083f75c858"
      },
      "execution_count": null,
      "outputs": [
        {
          "output_type": "execute_result",
          "data": {
            "text/plain": [
              "<matplotlib.legend.Legend at 0x7d84aac630e0>"
            ]
          },
          "metadata": {},
          "execution_count": 43
        },
        {
          "output_type": "display_data",
          "data": {
            "text/plain": [
              "<Figure size 1000x500 with 1 Axes>"
            ],
            "image/png": "[encoded data removed]"
          },
          "metadata": {}
        }
      ]
    },
    {
      "cell_type": "markdown",
      "source": [
        "Codice non integrato"
      ],
      "metadata": {
        "id": "ocnAB8a0mY53"
      }
    },
    {
      "cell_type": "code",
      "source": [
        "from tensorflow.keras.callbacks import EarlyStopping\n",
        "import tensorflow as tf\n",
        "early_stopping_callback = EarlyStopping(\n",
        "    monitor='val_loss',\n",
        "    mode='min',\n",
        "    patience=5,\n",
        "    restore_best_weights=True\n",
        ")"
      ],
      "metadata": {
        "id": "uvmpVzoeuX8j"
      },
      "execution_count": null,
      "outputs": []
    }
  ]
}
